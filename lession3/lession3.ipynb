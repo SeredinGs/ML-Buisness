{
 "cells": [
  {
   "cell_type": "markdown",
   "metadata": {},
   "source": [
    "# Задание\n",
    "\n",
    "1. Прочитайте базу my_PJME_MW.csv и сделайте ее перрасчет (ресемплинг) в представление по 1 месяцу.\n",
    "\n",
    "2. Подберите параметры модели SARIMAX для этого ряда.\n",
    "\n",
    "3. Сделайте вывод о том, как изменилась модель по сравнению с недельной.\n",
    "\n",
    "4. Возмите вариант 1 или 2 \n",
    "    - Вариант 1) - Постройте ACF, PACF и модель ARIMA для BRENT (недельный ресемплинг)\n",
    "    - Вариант 2) - Постройте ACF, PACF и модель ARIMA для СOVID_19  (по любой стране кроме Китая на дневных графиках )\n",
    "\n",
    "\n",
    "5. Оцените результат моделирования\n",
    "\n",
    "6. Сделайте предположение о моделях, которые лучше работают с техниками регрессии  на основе AR I MA."
   ]
  },
  {
   "cell_type": "markdown",
   "metadata": {},
   "source": [
    "### Задача 1--3"
   ]
  },
  {
   "cell_type": "markdown",
   "metadata": {},
   "source": [
    "Импортируем библиотеки"
   ]
  },
  {
   "cell_type": "code",
   "execution_count": 14,
   "metadata": {},
   "outputs": [],
   "source": [
    "%matplotlib inline\n",
    "import matplotlib.pyplot as plt\n",
    "\n",
    "import numpy as np\n",
    "import pandas as pd \n",
    "import seaborn as sns\n",
    "\n",
    "import os\n",
    "\n",
    "import statsmodels.api as sm\n",
    "from statsmodels.tsa.arima_model import ARIMA"
   ]
  },
  {
   "cell_type": "markdown",
   "metadata": {},
   "source": [
    "Прочитаем csv-файл"
   ]
  },
  {
   "cell_type": "code",
   "execution_count": 2,
   "metadata": {},
   "outputs": [
    {
     "data": {
      "text/html": [
       "<div>\n",
       "<style scoped>\n",
       "    .dataframe tbody tr th:only-of-type {\n",
       "        vertical-align: middle;\n",
       "    }\n",
       "\n",
       "    .dataframe tbody tr th {\n",
       "        vertical-align: top;\n",
       "    }\n",
       "\n",
       "    .dataframe thead th {\n",
       "        text-align: right;\n",
       "    }\n",
       "</style>\n",
       "<table border=\"1\" class=\"dataframe\">\n",
       "  <thead>\n",
       "    <tr style=\"text-align: right;\">\n",
       "      <th></th>\n",
       "      <th>Time</th>\n",
       "      <th>PJME_MW</th>\n",
       "      <th>year</th>\n",
       "      <th>month</th>\n",
       "      <th>dayofmonth</th>\n",
       "      <th>quarter</th>\n",
       "      <th>dayofyear</th>\n",
       "      <th>weekofyear</th>\n",
       "      <th>dayofweek</th>\n",
       "      <th>hour</th>\n",
       "      <th>is_holiday</th>\n",
       "      <th>is_prev_holiday</th>\n",
       "      <th>is_next_holiday</th>\n",
       "    </tr>\n",
       "    <tr>\n",
       "      <th>Date</th>\n",
       "      <th></th>\n",
       "      <th></th>\n",
       "      <th></th>\n",
       "      <th></th>\n",
       "      <th></th>\n",
       "      <th></th>\n",
       "      <th></th>\n",
       "      <th></th>\n",
       "      <th></th>\n",
       "      <th></th>\n",
       "      <th></th>\n",
       "      <th></th>\n",
       "      <th></th>\n",
       "    </tr>\n",
       "  </thead>\n",
       "  <tbody>\n",
       "    <tr>\n",
       "      <th>2002-01-01</th>\n",
       "      <td>01:00:00</td>\n",
       "      <td>30393.0</td>\n",
       "      <td>2002</td>\n",
       "      <td>1</td>\n",
       "      <td>1</td>\n",
       "      <td>1</td>\n",
       "      <td>1</td>\n",
       "      <td>1</td>\n",
       "      <td>1</td>\n",
       "      <td>1</td>\n",
       "      <td>1</td>\n",
       "      <td>0</td>\n",
       "      <td>0</td>\n",
       "    </tr>\n",
       "    <tr>\n",
       "      <th>2002-01-01</th>\n",
       "      <td>02:00:00</td>\n",
       "      <td>29265.0</td>\n",
       "      <td>2002</td>\n",
       "      <td>1</td>\n",
       "      <td>1</td>\n",
       "      <td>1</td>\n",
       "      <td>1</td>\n",
       "      <td>1</td>\n",
       "      <td>1</td>\n",
       "      <td>2</td>\n",
       "      <td>1</td>\n",
       "      <td>0</td>\n",
       "      <td>0</td>\n",
       "    </tr>\n",
       "    <tr>\n",
       "      <th>2002-01-01</th>\n",
       "      <td>03:00:00</td>\n",
       "      <td>28357.0</td>\n",
       "      <td>2002</td>\n",
       "      <td>1</td>\n",
       "      <td>1</td>\n",
       "      <td>1</td>\n",
       "      <td>1</td>\n",
       "      <td>1</td>\n",
       "      <td>1</td>\n",
       "      <td>3</td>\n",
       "      <td>1</td>\n",
       "      <td>0</td>\n",
       "      <td>0</td>\n",
       "    </tr>\n",
       "    <tr>\n",
       "      <th>2002-01-01</th>\n",
       "      <td>04:00:00</td>\n",
       "      <td>27899.0</td>\n",
       "      <td>2002</td>\n",
       "      <td>1</td>\n",
       "      <td>1</td>\n",
       "      <td>1</td>\n",
       "      <td>1</td>\n",
       "      <td>1</td>\n",
       "      <td>1</td>\n",
       "      <td>4</td>\n",
       "      <td>1</td>\n",
       "      <td>0</td>\n",
       "      <td>0</td>\n",
       "    </tr>\n",
       "    <tr>\n",
       "      <th>2002-01-01</th>\n",
       "      <td>05:00:00</td>\n",
       "      <td>28057.0</td>\n",
       "      <td>2002</td>\n",
       "      <td>1</td>\n",
       "      <td>1</td>\n",
       "      <td>1</td>\n",
       "      <td>1</td>\n",
       "      <td>1</td>\n",
       "      <td>1</td>\n",
       "      <td>5</td>\n",
       "      <td>1</td>\n",
       "      <td>0</td>\n",
       "      <td>0</td>\n",
       "    </tr>\n",
       "  </tbody>\n",
       "</table>\n",
       "</div>"
      ],
      "text/plain": [
       "                Time  PJME_MW  year  month  dayofmonth  quarter  dayofyear  \\\n",
       "Date                                                                         \n",
       "2002-01-01  01:00:00  30393.0  2002      1           1        1          1   \n",
       "2002-01-01  02:00:00  29265.0  2002      1           1        1          1   \n",
       "2002-01-01  03:00:00  28357.0  2002      1           1        1          1   \n",
       "2002-01-01  04:00:00  27899.0  2002      1           1        1          1   \n",
       "2002-01-01  05:00:00  28057.0  2002      1           1        1          1   \n",
       "\n",
       "            weekofyear  dayofweek  hour  is_holiday  is_prev_holiday  \\\n",
       "Date                                                                   \n",
       "2002-01-01           1          1     1           1                0   \n",
       "2002-01-01           1          1     2           1                0   \n",
       "2002-01-01           1          1     3           1                0   \n",
       "2002-01-01           1          1     4           1                0   \n",
       "2002-01-01           1          1     5           1                0   \n",
       "\n",
       "            is_next_holiday  \n",
       "Date                         \n",
       "2002-01-01                0  \n",
       "2002-01-01                0  \n",
       "2002-01-01                0  \n",
       "2002-01-01                0  \n",
       "2002-01-01                0  "
      ]
     },
     "execution_count": 2,
     "metadata": {},
     "output_type": "execute_result"
    }
   ],
   "source": [
    "cons = pd.read_csv('my_PJME_MW.csv', index_col=[0], parse_dates=[0])\n",
    "cons.head()"
   ]
  },
  {
   "cell_type": "markdown",
   "metadata": {},
   "source": [
    "Произведем ресемплинг"
   ]
  },
  {
   "cell_type": "code",
   "execution_count": 3,
   "metadata": {},
   "outputs": [
    {
     "data": {
      "text/html": [
       "<div>\n",
       "<style scoped>\n",
       "    .dataframe tbody tr th:only-of-type {\n",
       "        vertical-align: middle;\n",
       "    }\n",
       "\n",
       "    .dataframe tbody tr th {\n",
       "        vertical-align: top;\n",
       "    }\n",
       "\n",
       "    .dataframe thead th {\n",
       "        text-align: right;\n",
       "    }\n",
       "</style>\n",
       "<table border=\"1\" class=\"dataframe\">\n",
       "  <thead>\n",
       "    <tr style=\"text-align: right;\">\n",
       "      <th></th>\n",
       "      <th>PJME_MW</th>\n",
       "      <th>year</th>\n",
       "      <th>month</th>\n",
       "      <th>dayofmonth</th>\n",
       "      <th>quarter</th>\n",
       "      <th>dayofyear</th>\n",
       "      <th>weekofyear</th>\n",
       "      <th>dayofweek</th>\n",
       "      <th>hour</th>\n",
       "      <th>is_holiday</th>\n",
       "      <th>is_prev_holiday</th>\n",
       "      <th>is_next_holiday</th>\n",
       "    </tr>\n",
       "    <tr>\n",
       "      <th>Date</th>\n",
       "      <th></th>\n",
       "      <th></th>\n",
       "      <th></th>\n",
       "      <th></th>\n",
       "      <th></th>\n",
       "      <th></th>\n",
       "      <th></th>\n",
       "      <th></th>\n",
       "      <th></th>\n",
       "      <th></th>\n",
       "      <th></th>\n",
       "      <th></th>\n",
       "    </tr>\n",
       "  </thead>\n",
       "  <tbody>\n",
       "    <tr>\n",
       "      <th>2002-01-31</th>\n",
       "      <td>31075.399731</td>\n",
       "      <td>2002.0</td>\n",
       "      <td>1.0</td>\n",
       "      <td>16.020188</td>\n",
       "      <td>1.0</td>\n",
       "      <td>16.020188</td>\n",
       "      <td>2.873486</td>\n",
       "      <td>2.905787</td>\n",
       "      <td>11.515478</td>\n",
       "      <td>0.063257</td>\n",
       "      <td>0.032301</td>\n",
       "      <td>0.064603</td>\n",
       "    </tr>\n",
       "    <tr>\n",
       "      <th>2002-02-28</th>\n",
       "      <td>30239.166667</td>\n",
       "      <td>2002.0</td>\n",
       "      <td>2.0</td>\n",
       "      <td>14.500000</td>\n",
       "      <td>1.0</td>\n",
       "      <td>45.500000</td>\n",
       "      <td>7.071429</td>\n",
       "      <td>3.000000</td>\n",
       "      <td>11.500000</td>\n",
       "      <td>0.035714</td>\n",
       "      <td>0.035714</td>\n",
       "      <td>0.035714</td>\n",
       "    </tr>\n",
       "    <tr>\n",
       "      <th>2002-03-31</th>\n",
       "      <td>28875.256720</td>\n",
       "      <td>2002.0</td>\n",
       "      <td>3.0</td>\n",
       "      <td>16.000000</td>\n",
       "      <td>1.0</td>\n",
       "      <td>75.000000</td>\n",
       "      <td>11.258065</td>\n",
       "      <td>3.193548</td>\n",
       "      <td>11.500000</td>\n",
       "      <td>0.000000</td>\n",
       "      <td>0.000000</td>\n",
       "      <td>0.000000</td>\n",
       "    </tr>\n",
       "    <tr>\n",
       "      <th>2002-04-30</th>\n",
       "      <td>28534.731572</td>\n",
       "      <td>2002.0</td>\n",
       "      <td>4.0</td>\n",
       "      <td>15.511822</td>\n",
       "      <td>2.0</td>\n",
       "      <td>105.511822</td>\n",
       "      <td>15.668985</td>\n",
       "      <td>2.828929</td>\n",
       "      <td>11.511822</td>\n",
       "      <td>0.000000</td>\n",
       "      <td>0.000000</td>\n",
       "      <td>0.000000</td>\n",
       "    </tr>\n",
       "    <tr>\n",
       "      <th>2002-05-31</th>\n",
       "      <td>28073.653226</td>\n",
       "      <td>2002.0</td>\n",
       "      <td>5.0</td>\n",
       "      <td>16.000000</td>\n",
       "      <td>2.0</td>\n",
       "      <td>136.000000</td>\n",
       "      <td>20.000000</td>\n",
       "      <td>3.000000</td>\n",
       "      <td>11.500000</td>\n",
       "      <td>0.032258</td>\n",
       "      <td>0.032258</td>\n",
       "      <td>0.032258</td>\n",
       "    </tr>\n",
       "  </tbody>\n",
       "</table>\n",
       "</div>"
      ],
      "text/plain": [
       "                 PJME_MW    year  month  dayofmonth  quarter   dayofyear  \\\n",
       "Date                                                                       \n",
       "2002-01-31  31075.399731  2002.0    1.0   16.020188      1.0   16.020188   \n",
       "2002-02-28  30239.166667  2002.0    2.0   14.500000      1.0   45.500000   \n",
       "2002-03-31  28875.256720  2002.0    3.0   16.000000      1.0   75.000000   \n",
       "2002-04-30  28534.731572  2002.0    4.0   15.511822      2.0  105.511822   \n",
       "2002-05-31  28073.653226  2002.0    5.0   16.000000      2.0  136.000000   \n",
       "\n",
       "            weekofyear  dayofweek       hour  is_holiday  is_prev_holiday  \\\n",
       "Date                                                                        \n",
       "2002-01-31    2.873486   2.905787  11.515478    0.063257         0.032301   \n",
       "2002-02-28    7.071429   3.000000  11.500000    0.035714         0.035714   \n",
       "2002-03-31   11.258065   3.193548  11.500000    0.000000         0.000000   \n",
       "2002-04-30   15.668985   2.828929  11.511822    0.000000         0.000000   \n",
       "2002-05-31   20.000000   3.000000  11.500000    0.032258         0.032258   \n",
       "\n",
       "            is_next_holiday  \n",
       "Date                         \n",
       "2002-01-31         0.064603  \n",
       "2002-02-28         0.035714  \n",
       "2002-03-31         0.000000  \n",
       "2002-04-30         0.000000  \n",
       "2002-05-31         0.032258  "
      ]
     },
     "execution_count": 3,
     "metadata": {},
     "output_type": "execute_result"
    }
   ],
   "source": [
    "m_cons=cons.resample('M').mean()\n",
    "m_cons.head()"
   ]
  },
  {
   "cell_type": "markdown",
   "metadata": {},
   "source": [
    "Построим модели автокорреляции и частичной автокорреляции (ACF, PACF) с лагом 12 месяцев"
   ]
  },
  {
   "cell_type": "code",
   "execution_count": 4,
   "metadata": {},
   "outputs": [
    {
     "data": {
      "image/png": "[encoded data removed]",
      "text/plain": [
       "<Figure size 432x288 with 1 Axes>"
      ]
     },
     "metadata": {
      "needs_background": "light"
     },
     "output_type": "display_data"
    },
    {
     "data": {
      "image/png": "[encoded data removed]",
      "text/plain": [
       "<Figure size 432x288 with 1 Axes>"
      ]
     },
     "metadata": {
      "needs_background": "light"
     },
     "output_type": "display_data"
    }
   ],
   "source": [
    "sm.graphics.tsa.plot_acf(m_cons['PJME_MW'].values, lags=12)\n",
    "plt.show()\n",
    "\n",
    "sm.graphics.tsa.plot_pacf(m_cons['PJME_MW'].values, lags=12)\n",
    "plt.show()"
   ]
  },
  {
   "cell_type": "markdown",
   "metadata": {},
   "source": [
    "При лаге 3, 6, 9 наблюдается наибольшие значения автокорреляции, также форма полученной кривой имеет периодический вид, что говорит о сезонности данного ряда  "
   ]
  },
  {
   "cell_type": "markdown",
   "metadata": {},
   "source": [
    "Произведем подбор коэффициентов ARIMA при помощи сеточного поиска"
   ]
  },
  {
   "cell_type": "code",
   "execution_count": 5,
   "metadata": {},
   "outputs": [
    {
     "name": "stdout",
     "output_type": "stream",
     "text": [
      "ARIMA(0, 0, 0)x(0, 0, 0, 12)3 - AIC:4699.195491264933\n",
      "ARIMA(0, 0, 0)x(0, 0, 1, 12)3 - AIC:4290.040464872278\n",
      "ARIMA(0, 0, 0)x(0, 0, 2, 12)3 - AIC:3987.1764435563705\n",
      "ARIMA(0, 0, 0)x(0, 1, 0, 12)3 - AIC:3372.7214168798077\n",
      "ARIMA(0, 0, 0)x(0, 1, 1, 12)3 - AIC:3143.0669287152464\n",
      "ARIMA(0, 0, 0)x(0, 1, 2, 12)3 - AIC:2904.7464905692823\n",
      "ARIMA(0, 0, 1)x(0, 0, 0, 12)3 - AIC:4534.039921069851\n",
      "ARIMA(0, 0, 1)x(0, 0, 1, 12)3 - AIC:4225.338467513022\n",
      "ARIMA(0, 0, 1)x(0, 0, 2, 12)3 - AIC:3947.281069560797\n",
      "ARIMA(0, 0, 1)x(0, 1, 0, 12)3 - AIC:3330.6866857595214\n",
      "ARIMA(0, 0, 1)x(0, 1, 1, 12)3 - AIC:3103.4708140327884\n",
      "ARIMA(0, 0, 1)x(0, 1, 2, 12)3 - AIC:2869.803852147408\n",
      "ARIMA(0, 0, 2)x(0, 0, 0, 12)3 - AIC:4478.921088805258\n",
      "ARIMA(0, 0, 2)x(0, 0, 1, 12)3 - AIC:3776.19955328393\n",
      "ARIMA(0, 0, 2)x(0, 0, 2, 12)3 - AIC:3924.804408772281\n",
      "ARIMA(0, 0, 2)x(0, 1, 0, 12)3 - AIC:3315.6786725106726\n",
      "ARIMA(0, 0, 2)x(0, 1, 1, 12)3 - AIC:3087.848067887178\n",
      "ARIMA(0, 0, 2)x(0, 1, 2, 12)3 - AIC:2854.2202541760735\n",
      "ARIMA(0, 1, 0)x(0, 0, 0, 12)3 - AIC:3792.308338087148\n",
      "ARIMA(0, 1, 0)x(0, 0, 1, 12)3 - AIC:3469.274914660491\n",
      "ARIMA(0, 1, 0)x(0, 0, 2, 12)3 - AIC:3227.7439431547723\n",
      "ARIMA(0, 1, 0)x(0, 1, 0, 12)3 - AIC:3402.2941546317206\n",
      "ARIMA(0, 1, 0)x(0, 1, 1, 12)3 - AIC:3133.876426516212\n",
      "ARIMA(0, 1, 0)x(0, 1, 2, 12)3 - AIC:2913.4897992834753\n",
      "ARIMA(0, 1, 1)x(0, 0, 0, 12)3 - AIC:3737.2336102740983\n",
      "ARIMA(0, 1, 1)x(0, 0, 1, 12)3 - AIC:3446.6923122143507\n",
      "ARIMA(0, 1, 1)x(0, 0, 2, 12)3 - AIC:3211.7964088971053\n",
      "ARIMA(0, 1, 1)x(0, 1, 0, 12)3 - AIC:3352.1710581709212\n",
      "ARIMA(0, 1, 1)x(0, 1, 1, 12)3 - AIC:3073.0863067683495\n",
      "ARIMA(0, 1, 1)x(0, 1, 2, 12)3 - AIC:2857.409252062812\n",
      "ARIMA(0, 1, 2)x(0, 0, 0, 12)3 - AIC:3676.30050223294\n",
      "ARIMA(0, 1, 2)x(0, 0, 1, 12)3 - AIC:3412.695494683904\n",
      "ARIMA(0, 1, 2)x(0, 0, 2, 12)3 - AIC:3128.4681560971476\n",
      "ARIMA(0, 1, 2)x(0, 1, 0, 12)3 - AIC:3328.9584756166296\n",
      "ARIMA(0, 1, 2)x(0, 1, 1, 12)3 - AIC:3041.8325660215887\n",
      "ARIMA(0, 1, 2)x(0, 1, 2, 12)3 - AIC:2845.0776485486313\n",
      "ARIMA(0, 2, 0)x(0, 0, 0, 12)3 - AIC:3831.5390762375473\n",
      "ARIMA(0, 2, 0)x(0, 0, 1, 12)3 - AIC:3560.7391292408856\n",
      "ARIMA(0, 2, 0)x(0, 0, 2, 12)3 - AIC:3325.807070065174\n",
      "ARIMA(0, 2, 0)x(0, 1, 0, 12)3 - AIC:3557.853117244718\n",
      "ARIMA(0, 2, 0)x(0, 1, 1, 12)3 - AIC:3276.1930750319325\n",
      "ARIMA(0, 2, 0)x(0, 1, 2, 12)3 - AIC:3043.852510091563\n",
      "ARIMA(0, 2, 1)x(0, 0, 0, 12)3 - AIC:3813.9604826603004\n",
      "ARIMA(0, 2, 1)x(0, 0, 1, 12)3 - AIC:3489.693479987327\n",
      "ARIMA(0, 2, 1)x(0, 0, 2, 12)3 - AIC:3199.881889061557\n",
      "ARIMA(0, 2, 1)x(0, 1, 0, 12)3 - AIC:3399.100876966477\n",
      "ARIMA(0, 2, 1)x(0, 1, 1, 12)3 - AIC:3132.8809050493114\n",
      "ARIMA(0, 2, 1)x(0, 1, 2, 12)3 - AIC:2879.7991395085724\n",
      "ARIMA(0, 2, 2)x(0, 0, 0, 12)3 - AIC:3733.259441294899\n",
      "ARIMA(0, 2, 2)x(0, 0, 1, 12)3 - AIC:3430.799928594758\n",
      "ARIMA(0, 2, 2)x(0, 0, 2, 12)3 - AIC:3169.856863118076\n",
      "ARIMA(0, 2, 2)x(0, 1, 0, 12)3 - AIC:3369.0932956811794\n",
      "ARIMA(0, 2, 2)x(0, 1, 1, 12)3 - AIC:3088.669965248514\n",
      "ARIMA(0, 2, 2)x(0, 1, 2, 12)3 - AIC:2873.5048453963973\n",
      "ARIMA(1, 0, 0)x(0, 0, 0, 12)3 - AIC:3812.169058883872\n",
      "ARIMA(1, 0, 0)x(0, 0, 1, 12)3 - AIC:3509.3027545577106\n"
     ]
    },
    {
     "name": "stderr",
     "output_type": "stream",
     "text": [
      "C:\\Program Files\\Python37\\lib\\site-packages\\statsmodels\\base\\model.py:512: ConvergenceWarning: Maximum Likelihood optimization failed to converge. Check mle_retvals\n",
      "  \"Check mle_retvals\", ConvergenceWarning)\n"
     ]
    },
    {
     "name": "stdout",
     "output_type": "stream",
     "text": [
      "ARIMA(1, 0, 0)x(0, 0, 2, 12)3 - AIC:3277.9857868022245\n",
      "ARIMA(1, 0, 0)x(0, 1, 0, 12)3 - AIC:3350.4034264431248\n",
      "ARIMA(1, 0, 0)x(0, 1, 1, 12)3 - AIC:3117.3003840103283\n",
      "ARIMA(1, 0, 0)x(0, 1, 2, 12)3 - AIC:2877.8527152903916\n",
      "ARIMA(1, 0, 1)x(0, 0, 0, 12)3 - AIC:3753.0410598169674\n",
      "ARIMA(1, 0, 1)x(0, 0, 1, 12)3 - AIC:3472.9127622104083\n"
     ]
    },
    {
     "name": "stderr",
     "output_type": "stream",
     "text": [
      "C:\\Program Files\\Python37\\lib\\site-packages\\statsmodels\\base\\model.py:512: ConvergenceWarning: Maximum Likelihood optimization failed to converge. Check mle_retvals\n",
      "  \"Check mle_retvals\", ConvergenceWarning)\n"
     ]
    },
    {
     "name": "stdout",
     "output_type": "stream",
     "text": [
      "ARIMA(1, 0, 1)x(0, 0, 2, 12)3 - AIC:3282.9607428767513\n",
      "ARIMA(1, 0, 1)x(0, 1, 0, 12)3 - AIC:3332.641810034511\n",
      "ARIMA(1, 0, 1)x(0, 1, 1, 12)3 - AIC:3093.7090130307706\n",
      "ARIMA(1, 0, 1)x(0, 1, 2, 12)3 - AIC:2862.8868070662074\n",
      "ARIMA(1, 0, 2)x(0, 0, 0, 12)3 - AIC:3694.421707822881\n",
      "ARIMA(1, 0, 2)x(0, 0, 1, 12)3 - AIC:3429.840870628531\n",
      "ARIMA(1, 0, 2)x(0, 0, 2, 12)3 - AIC:3648.737974618402\n",
      "ARIMA(1, 0, 2)x(0, 1, 0, 12)3 - AIC:3317.194753949482\n",
      "ARIMA(1, 0, 2)x(0, 1, 1, 12)3 - AIC:3063.0269812601855\n",
      "ARIMA(1, 0, 2)x(0, 1, 2, 12)3 - AIC:2844.1368266413147\n",
      "ARIMA(1, 1, 0)x(0, 0, 0, 12)3 - AIC:3771.460929304396\n",
      "ARIMA(1, 1, 0)x(0, 0, 1, 12)3 - AIC:3469.2479605840713\n",
      "ARIMA(1, 1, 0)x(0, 0, 2, 12)3 - AIC:3229.6887245815788\n",
      "ARIMA(1, 1, 0)x(0, 1, 0, 12)3 - AIC:3387.0280409419893\n",
      "ARIMA(1, 1, 0)x(0, 1, 1, 12)3 - AIC:3117.615848380787\n",
      "ARIMA(1, 1, 0)x(0, 1, 2, 12)3 - AIC:2894.4623409348505\n",
      "ARIMA(1, 1, 1)x(0, 0, 0, 12)3 - AIC:3735.4704522308193\n",
      "ARIMA(1, 1, 1)x(0, 0, 1, 12)3 - AIC:3438.838263171106\n",
      "ARIMA(1, 1, 1)x(0, 0, 2, 12)3 - AIC:3164.218913539964\n",
      "ARIMA(1, 1, 1)x(0, 1, 0, 12)3 - AIC:3353.3158115178458\n",
      "ARIMA(1, 1, 1)x(0, 1, 1, 12)3 - AIC:3077.7242033704742\n",
      "ARIMA(1, 1, 1)x(0, 1, 2, 12)3 - AIC:2843.403736274952\n",
      "ARIMA(1, 1, 2)x(0, 0, 0, 12)3 - AIC:3654.7095105013404\n",
      "ARIMA(1, 1, 2)x(0, 0, 1, 12)3 - AIC:3389.7173978380524\n",
      "ARIMA(1, 1, 2)x(0, 0, 2, 12)3 - AIC:3129.1724787493417\n",
      "ARIMA(1, 1, 2)x(0, 1, 0, 12)3 - AIC:3329.053255131077\n",
      "ARIMA(1, 1, 2)x(0, 1, 1, 12)3 - AIC:3043.0420857013455\n",
      "ARIMA(1, 1, 2)x(0, 1, 2, 12)3 - AIC:2827.599760756042\n",
      "ARIMA(1, 2, 0)x(0, 0, 0, 12)3 - AIC:3833.008975526829\n",
      "ARIMA(1, 2, 0)x(0, 0, 1, 12)3 - AIC:3548.0149808077167\n",
      "ARIMA(1, 2, 0)x(0, 0, 2, 12)3 - AIC:3318.162381088291\n",
      "ARIMA(1, 2, 0)x(0, 1, 0, 12)3 - AIC:3502.172886430932\n",
      "ARIMA(1, 2, 0)x(0, 1, 1, 12)3 - AIC:3228.0009106666726\n",
      "ARIMA(1, 2, 0)x(0, 1, 2, 12)3 - AIC:3002.8069274845857\n",
      "ARIMA(1, 2, 1)x(0, 0, 0, 12)3 - AIC:3774.6858632756084\n",
      "ARIMA(1, 2, 1)x(0, 0, 1, 12)3 - AIC:3467.4564154199543\n",
      "ARIMA(1, 2, 1)x(0, 0, 2, 12)3 - AIC:3229.808672672118\n",
      "ARIMA(1, 2, 1)x(0, 1, 0, 12)3 - AIC:3393.9651227184677\n",
      "ARIMA(1, 2, 1)x(0, 1, 1, 12)3 - AIC:3111.2226779979324\n",
      "ARIMA(1, 2, 1)x(0, 1, 2, 12)3 - AIC:2866.2914367744406\n",
      "ARIMA(1, 2, 2)x(0, 0, 0, 12)3 - AIC:3746.510114210145\n",
      "ARIMA(1, 2, 2)x(0, 0, 1, 12)3 - AIC:3425.0187909957176\n",
      "ARIMA(1, 2, 2)x(0, 0, 2, 12)3 - AIC:3183.6733994757187\n",
      "ARIMA(1, 2, 2)x(0, 1, 0, 12)3 - AIC:3370.013807454473\n"
     ]
    },
    {
     "name": "stderr",
     "output_type": "stream",
     "text": [
      "C:\\Program Files\\Python37\\lib\\site-packages\\statsmodels\\base\\model.py:512: ConvergenceWarning: Maximum Likelihood optimization failed to converge. Check mle_retvals\n",
      "  \"Check mle_retvals\", ConvergenceWarning)\n"
     ]
    },
    {
     "name": "stdout",
     "output_type": "stream",
     "text": [
      "ARIMA(1, 2, 2)x(0, 1, 1, 12)3 - AIC:3078.15816628859\n",
      "ARIMA(1, 2, 2)x(0, 1, 2, 12)3 - AIC:2867.318249183261\n",
      "ARIMA(2, 0, 0)x(0, 0, 0, 12)3 - AIC:3772.653128854749\n",
      "ARIMA(2, 0, 0)x(0, 0, 1, 12)3 - AIC:3502.5118798289977\n",
      "ARIMA(2, 0, 0)x(0, 0, 2, 12)3 - AIC:3705.391475930771\n",
      "ARIMA(2, 0, 0)x(0, 1, 0, 12)3 - AIC:3333.6012795642027\n",
      "ARIMA(2, 0, 0)x(0, 1, 1, 12)3 - AIC:3118.8060815716635\n",
      "ARIMA(2, 0, 0)x(0, 1, 2, 12)3 - AIC:2879.796207928668\n",
      "ARIMA(2, 0, 1)x(0, 0, 0, 12)3 - AIC:3791.2099876000625\n",
      "ARIMA(2, 0, 1)x(0, 0, 1, 12)3 - AIC:3497.302004605443\n",
      "ARIMA(2, 0, 1)x(0, 0, 2, 12)3 - AIC:3241.3695618729207\n",
      "ARIMA(2, 0, 1)x(0, 1, 0, 12)3 - AIC:3334.246790477041\n",
      "ARIMA(2, 0, 1)x(0, 1, 1, 12)3 - AIC:3085.4009701230534\n"
     ]
    },
    {
     "name": "stderr",
     "output_type": "stream",
     "text": [
      "C:\\Program Files\\Python37\\lib\\site-packages\\statsmodels\\base\\model.py:512: ConvergenceWarning: Maximum Likelihood optimization failed to converge. Check mle_retvals\n",
      "  \"Check mle_retvals\", ConvergenceWarning)\n"
     ]
    },
    {
     "name": "stdout",
     "output_type": "stream",
     "text": [
      "ARIMA(2, 0, 1)x(0, 1, 2, 12)3 - AIC:2869.312515186798\n",
      "ARIMA(2, 0, 2)x(0, 0, 0, 12)3 - AIC:3674.783920556766\n",
      "ARIMA(2, 0, 2)x(0, 0, 1, 12)3 - AIC:3404.2981721538927\n",
      "ARIMA(2, 0, 2)x(0, 0, 2, 12)3 - AIC:3586.5710459148186\n",
      "ARIMA(2, 0, 2)x(0, 1, 0, 12)3 - AIC:3318.085391735577\n",
      "ARIMA(2, 0, 2)x(0, 1, 1, 12)3 - AIC:3072.03336934779\n"
     ]
    },
    {
     "name": "stderr",
     "output_type": "stream",
     "text": [
      "C:\\Program Files\\Python37\\lib\\site-packages\\statsmodels\\base\\model.py:512: ConvergenceWarning: Maximum Likelihood optimization failed to converge. Check mle_retvals\n",
      "  \"Check mle_retvals\", ConvergenceWarning)\n"
     ]
    },
    {
     "name": "stdout",
     "output_type": "stream",
     "text": [
      "ARIMA(2, 0, 2)x(0, 1, 2, 12)3 - AIC:2846.1178459084995\n",
      "ARIMA(2, 1, 0)x(0, 0, 0, 12)3 - AIC:3672.885958969931\n",
      "ARIMA(2, 1, 0)x(0, 0, 1, 12)3 - AIC:3446.631649749739\n",
      "ARIMA(2, 1, 0)x(0, 0, 2, 12)3 - AIC:3214.540836366552\n",
      "ARIMA(2, 1, 0)x(0, 1, 0, 12)3 - AIC:3342.0152219982883\n",
      "ARIMA(2, 1, 0)x(0, 1, 1, 12)3 - AIC:3098.5456425855655\n",
      "ARIMA(2, 1, 0)x(0, 1, 2, 12)3 - AIC:2877.364778768903\n",
      "ARIMA(2, 1, 1)x(0, 0, 0, 12)3 - AIC:3565.0420219548614\n",
      "ARIMA(2, 1, 1)x(0, 0, 1, 12)3 - AIC:3339.3338918450113\n",
      "ARIMA(2, 1, 1)x(0, 0, 2, 12)3 - AIC:3127.0773805627346\n",
      "ARIMA(2, 1, 1)x(0, 1, 0, 12)3 - AIC:3344.007126256849\n",
      "ARIMA(2, 1, 1)x(0, 1, 1, 12)3 - AIC:3074.298709956865\n",
      "ARIMA(2, 1, 1)x(0, 1, 2, 12)3 - AIC:2845.39102843625\n",
      "ARIMA(2, 1, 2)x(0, 0, 0, 12)3 - AIC:3543.50284063614\n",
      "ARIMA(2, 1, 2)x(0, 0, 1, 12)3 - AIC:3291.471946784545\n",
      "ARIMA(2, 1, 2)x(0, 0, 2, 12)3 - AIC:3082.1409393752865\n",
      "ARIMA(2, 1, 2)x(0, 1, 0, 12)3 - AIC:3326.303955004778\n",
      "ARIMA(2, 1, 2)x(0, 1, 1, 12)3 - AIC:3045.0384407892666\n"
     ]
    },
    {
     "name": "stderr",
     "output_type": "stream",
     "text": [
      "C:\\Program Files\\Python37\\lib\\site-packages\\statsmodels\\base\\model.py:512: ConvergenceWarning: Maximum Likelihood optimization failed to converge. Check mle_retvals\n",
      "  \"Check mle_retvals\", ConvergenceWarning)\n"
     ]
    },
    {
     "name": "stdout",
     "output_type": "stream",
     "text": [
      "ARIMA(2, 1, 2)x(0, 1, 2, 12)3 - AIC:2827.865852716379\n",
      "ARIMA(2, 2, 0)x(0, 0, 0, 12)3 - AIC:3796.408055652012\n",
      "ARIMA(2, 2, 0)x(0, 0, 1, 12)3 - AIC:3543.2667037975025\n",
      "ARIMA(2, 2, 0)x(0, 0, 2, 12)3 - AIC:3301.5056771867994\n",
      "ARIMA(2, 2, 0)x(0, 1, 0, 12)3 - AIC:3417.76383684824\n",
      "ARIMA(2, 2, 0)x(0, 1, 1, 12)3 - AIC:3172.3478517501753\n",
      "ARIMA(2, 2, 0)x(0, 1, 2, 12)3 - AIC:2951.1044003930983\n",
      "ARIMA(2, 2, 1)x(0, 0, 0, 12)3 - AIC:3713.1103461324556\n",
      "ARIMA(2, 2, 1)x(0, 0, 1, 12)3 - AIC:3432.293177987298\n",
      "ARIMA(2, 2, 1)x(0, 0, 2, 12)3 - AIC:3202.526626353915\n",
      "ARIMA(2, 2, 1)x(0, 1, 0, 12)3 - AIC:3379.47735843567\n",
      "ARIMA(2, 2, 1)x(0, 1, 1, 12)3 - AIC:3095.259447008848\n",
      "ARIMA(2, 2, 1)x(0, 1, 2, 12)3 - AIC:2850.116083201886\n",
      "ARIMA(2, 2, 2)x(0, 0, 0, 12)3 - AIC:3558.5022346571445\n",
      "ARIMA(2, 2, 2)x(0, 0, 1, 12)3 - AIC:3335.3208721325864\n",
      "ARIMA(2, 2, 2)x(0, 0, 2, 12)3 - AIC:3121.4082169479098\n",
      "ARIMA(2, 2, 2)x(0, 1, 0, 12)3 - AIC:3359.0733970968367\n"
     ]
    },
    {
     "name": "stderr",
     "output_type": "stream",
     "text": [
      "C:\\Program Files\\Python37\\lib\\site-packages\\statsmodels\\base\\model.py:512: ConvergenceWarning: Maximum Likelihood optimization failed to converge. Check mle_retvals\n",
      "  \"Check mle_retvals\", ConvergenceWarning)\n"
     ]
    },
    {
     "name": "stdout",
     "output_type": "stream",
     "text": [
      "ARIMA(2, 2, 2)x(0, 1, 1, 12)3 - AIC:3067.2427628104124\n"
     ]
    },
    {
     "name": "stderr",
     "output_type": "stream",
     "text": [
      "C:\\Program Files\\Python37\\lib\\site-packages\\statsmodels\\base\\model.py:512: ConvergenceWarning: Maximum Likelihood optimization failed to converge. Check mle_retvals\n",
      "  \"Check mle_retvals\", ConvergenceWarning)\n"
     ]
    },
    {
     "name": "stdout",
     "output_type": "stream",
     "text": [
      "ARIMA(2, 2, 2)x(0, 1, 2, 12)3 - AIC:2855.5356066823124\n"
     ]
    }
   ],
   "source": [
    "import itertools\n",
    "\n",
    "p = d = q = range(0, 3)\n",
    "\n",
    "pdq = list(itertools.product(p, d, q))\n",
    "\n",
    "\n",
    "p = [0] \n",
    "d = [0,1]\n",
    "q = range(0, 3)\n",
    "seasonal_pdq = [(x[0], x[1], x[2], 12) for x in list(itertools.product(p, d, q))]\n",
    "\n",
    "for param in pdq:\n",
    "    for param_seasonal in seasonal_pdq:\n",
    "        try:\n",
    "            mod = sm.tsa.statespace.SARIMAX(m_cons['PJME_MW'].values,order=param,\n",
    "                                    seasonal_order=param_seasonal ,\n",
    "                                    enforce_stationarity=False,\n",
    "                                    enforce_invertibility=False)\n",
    "\n",
    "            results = mod.fit()\n",
    "            print('ARIMA{}x{}3 - AIC:{}'.format(param, param_seasonal, results.aic))\n",
    "        except Exception as E:\n",
    "            print(E)"
   ]
  },
  {
   "cell_type": "markdown",
   "metadata": {},
   "source": [
    "Оптимальными являются векторы ARIMA(0, 1, 2)x(0, 1, 2, 12), имеющие AIC:2845.0776485486313"
   ]
  },
  {
   "cell_type": "markdown",
   "metadata": {},
   "source": [
    "Произведем прогноз на 12 месяцев"
   ]
  },
  {
   "cell_type": "code",
   "execution_count": 6,
   "metadata": {},
   "outputs": [
    {
     "name": "stdout",
     "output_type": "stream",
     "text": [
      "AIC:{} 2405.5124313003453\n"
     ]
    }
   ],
   "source": [
    "N1 =0\n",
    "N2=24\n",
    "nforecast = N2+12\n",
    "\n",
    "mod = sm.tsa.statespace.SARIMAX(m_cons['PJME_MW'].values[N1:-N2],order=[0,1,2],\n",
    "                                seasonal_order=[0,1,2,12] ,\n",
    "                                enforce_stationarity=False,\n",
    "                                enforce_invertibility=False)\n",
    "results_opt = mod.fit()\n",
    "print('AIC:{}',results_opt.aic)"
   ]
  },
  {
   "cell_type": "code",
   "execution_count": 7,
   "metadata": {},
   "outputs": [],
   "source": [
    "predict_ = results_opt.get_prediction(end=results_opt.nobs + nforecast)"
   ]
  },
  {
   "cell_type": "markdown",
   "metadata": {},
   "source": [
    "Построим графики"
   ]
  },
  {
   "cell_type": "code",
   "execution_count": 42,
   "metadata": {},
   "outputs": [
    {
     "data": {
      "image/png": "[encoded data removed]",
      "text/plain": [
       "<Figure size 1440x720 with 1 Axes>"
      ]
     },
     "metadata": {
      "needs_background": "light"
     },
     "output_type": "display_data"
    }
   ],
   "source": [
    "\n",
    "idx = np.arange(len(predict_.predicted_mean))\n",
    "predict_ci = predict_.conf_int(alpha=0.5)\n",
    "\n",
    "#\n",
    "fig, ax = plt.subplots(figsize=(20,10))\n",
    "ax.xaxis.grid()\n",
    "ax.plot(m_cons['PJME_MW'].values[:120], 'k.',label='true')\n",
    "\n",
    "# \n",
    "ax.plot(idx, predict_.predicted_mean, 'gray',label = 'model')\n",
    "ax.plot(idx[100:], predict_.predicted_mean[100:], 'r--', linestyle='--', linewidth=2, label='predict')\n",
    "ax.fill_between(idx, predict_ci[0:, 0], predict_ci[0:, 1], alpha=0.25)\n",
    "plt.legend()\n",
    "ax.set(title='общая картина моделирование и предсказание');"
   ]
  },
  {
   "cell_type": "markdown",
   "metadata": {},
   "source": [
    "<b>Вывод</b>:Полученная прогноз повторил ход движения кривой"
   ]
  },
  {
   "cell_type": "markdown",
   "metadata": {},
   "source": [
    "### Задача 4--6"
   ]
  },
  {
   "cell_type": "markdown",
   "metadata": {},
   "source": [
    "Выбран вариант 1: Построим ACF, PACF и модель ARIMA для BRENT (недельный ресемплинг)"
   ]
  },
  {
   "cell_type": "markdown",
   "metadata": {},
   "source": [
    "Импортируем csv-файл"
   ]
  },
  {
   "cell_type": "code",
   "execution_count": 9,
   "metadata": {},
   "outputs": [
    {
     "data": {
      "text/html": [
       "<div>\n",
       "<style scoped>\n",
       "    .dataframe tbody tr th:only-of-type {\n",
       "        vertical-align: middle;\n",
       "    }\n",
       "\n",
       "    .dataframe tbody tr th {\n",
       "        vertical-align: top;\n",
       "    }\n",
       "\n",
       "    .dataframe thead th {\n",
       "        text-align: right;\n",
       "    }\n",
       "</style>\n",
       "<table border=\"1\" class=\"dataframe\">\n",
       "  <thead>\n",
       "    <tr style=\"text-align: right;\">\n",
       "      <th></th>\n",
       "      <th>Значение</th>\n",
       "      <th>year</th>\n",
       "      <th>month</th>\n",
       "      <th>dayofmonth</th>\n",
       "      <th>quarter</th>\n",
       "      <th>dayofyear</th>\n",
       "      <th>weekofyear</th>\n",
       "      <th>dayofweek</th>\n",
       "      <th>is_holiday</th>\n",
       "      <th>is_prev_holiday</th>\n",
       "      <th>is_next_holiday</th>\n",
       "    </tr>\n",
       "    <tr>\n",
       "      <th>Дата</th>\n",
       "      <th></th>\n",
       "      <th></th>\n",
       "      <th></th>\n",
       "      <th></th>\n",
       "      <th></th>\n",
       "      <th></th>\n",
       "      <th></th>\n",
       "      <th></th>\n",
       "      <th></th>\n",
       "      <th></th>\n",
       "      <th></th>\n",
       "    </tr>\n",
       "  </thead>\n",
       "  <tbody>\n",
       "    <tr>\n",
       "      <th>2010-09-01</th>\n",
       "      <td>76.37</td>\n",
       "      <td>2010</td>\n",
       "      <td>9</td>\n",
       "      <td>1</td>\n",
       "      <td>3</td>\n",
       "      <td>244</td>\n",
       "      <td>35</td>\n",
       "      <td>2</td>\n",
       "      <td>0</td>\n",
       "      <td>0</td>\n",
       "      <td>0</td>\n",
       "    </tr>\n",
       "    <tr>\n",
       "      <th>2010-09-02</th>\n",
       "      <td>76.89</td>\n",
       "      <td>2010</td>\n",
       "      <td>9</td>\n",
       "      <td>2</td>\n",
       "      <td>3</td>\n",
       "      <td>245</td>\n",
       "      <td>35</td>\n",
       "      <td>3</td>\n",
       "      <td>0</td>\n",
       "      <td>0</td>\n",
       "      <td>0</td>\n",
       "    </tr>\n",
       "    <tr>\n",
       "      <th>2010-09-03</th>\n",
       "      <td>76.57</td>\n",
       "      <td>2010</td>\n",
       "      <td>9</td>\n",
       "      <td>3</td>\n",
       "      <td>3</td>\n",
       "      <td>246</td>\n",
       "      <td>35</td>\n",
       "      <td>4</td>\n",
       "      <td>0</td>\n",
       "      <td>0</td>\n",
       "      <td>0</td>\n",
       "    </tr>\n",
       "    <tr>\n",
       "      <th>2010-09-04</th>\n",
       "      <td>76.62</td>\n",
       "      <td>2010</td>\n",
       "      <td>9</td>\n",
       "      <td>4</td>\n",
       "      <td>3</td>\n",
       "      <td>247</td>\n",
       "      <td>35</td>\n",
       "      <td>5</td>\n",
       "      <td>0</td>\n",
       "      <td>0</td>\n",
       "      <td>0</td>\n",
       "    </tr>\n",
       "    <tr>\n",
       "      <th>2010-09-05</th>\n",
       "      <td>76.63</td>\n",
       "      <td>2010</td>\n",
       "      <td>9</td>\n",
       "      <td>5</td>\n",
       "      <td>3</td>\n",
       "      <td>248</td>\n",
       "      <td>35</td>\n",
       "      <td>6</td>\n",
       "      <td>0</td>\n",
       "      <td>1</td>\n",
       "      <td>0</td>\n",
       "    </tr>\n",
       "  </tbody>\n",
       "</table>\n",
       "</div>"
      ],
      "text/plain": [
       "            Значение  year  month  dayofmonth  quarter  dayofyear  weekofyear  \\\n",
       "Дата                                                                            \n",
       "2010-09-01     76.37  2010      9           1        3        244          35   \n",
       "2010-09-02     76.89  2010      9           2        3        245          35   \n",
       "2010-09-03     76.57  2010      9           3        3        246          35   \n",
       "2010-09-04     76.62  2010      9           4        3        247          35   \n",
       "2010-09-05     76.63  2010      9           5        3        248          35   \n",
       "\n",
       "            dayofweek  is_holiday  is_prev_holiday  is_next_holiday  \n",
       "Дата                                                                 \n",
       "2010-09-01          2           0                0                0  \n",
       "2010-09-02          3           0                0                0  \n",
       "2010-09-03          4           0                0                0  \n",
       "2010-09-04          5           0                0                0  \n",
       "2010-09-05          6           0                1                0  "
      ]
     },
     "execution_count": 9,
     "metadata": {},
     "output_type": "execute_result"
    }
   ],
   "source": [
    "brent = pd.read_csv('my_BRENT2019.csv', index_col=[0], parse_dates=[0])\n",
    "brent.head()"
   ]
  },
  {
   "cell_type": "markdown",
   "metadata": {},
   "source": [
    "Произведем ресемплинг в недельный ряд"
   ]
  },
  {
   "cell_type": "code",
   "execution_count": 10,
   "metadata": {},
   "outputs": [
    {
     "data": {
      "text/html": [
       "<div>\n",
       "<style scoped>\n",
       "    .dataframe tbody tr th:only-of-type {\n",
       "        vertical-align: middle;\n",
       "    }\n",
       "\n",
       "    .dataframe tbody tr th {\n",
       "        vertical-align: top;\n",
       "    }\n",
       "\n",
       "    .dataframe thead th {\n",
       "        text-align: right;\n",
       "    }\n",
       "</style>\n",
       "<table border=\"1\" class=\"dataframe\">\n",
       "  <thead>\n",
       "    <tr style=\"text-align: right;\">\n",
       "      <th></th>\n",
       "      <th>Значение</th>\n",
       "      <th>year</th>\n",
       "      <th>month</th>\n",
       "      <th>dayofmonth</th>\n",
       "      <th>quarter</th>\n",
       "      <th>dayofyear</th>\n",
       "      <th>weekofyear</th>\n",
       "      <th>dayofweek</th>\n",
       "      <th>is_holiday</th>\n",
       "      <th>is_prev_holiday</th>\n",
       "      <th>is_next_holiday</th>\n",
       "    </tr>\n",
       "    <tr>\n",
       "      <th>Дата</th>\n",
       "      <th></th>\n",
       "      <th></th>\n",
       "      <th></th>\n",
       "      <th></th>\n",
       "      <th></th>\n",
       "      <th></th>\n",
       "      <th></th>\n",
       "      <th></th>\n",
       "      <th></th>\n",
       "      <th></th>\n",
       "      <th></th>\n",
       "    </tr>\n",
       "  </thead>\n",
       "  <tbody>\n",
       "    <tr>\n",
       "      <th>2010-09-05</th>\n",
       "      <td>76.616000</td>\n",
       "      <td>2010.0</td>\n",
       "      <td>9.000000</td>\n",
       "      <td>3.000000</td>\n",
       "      <td>3.000000</td>\n",
       "      <td>246.000000</td>\n",
       "      <td>35.0</td>\n",
       "      <td>4.000000</td>\n",
       "      <td>0.000000</td>\n",
       "      <td>0.2</td>\n",
       "      <td>0.000000</td>\n",
       "    </tr>\n",
       "    <tr>\n",
       "      <th>2010-09-12</th>\n",
       "      <td>77.673333</td>\n",
       "      <td>2010.0</td>\n",
       "      <td>9.000000</td>\n",
       "      <td>8.500000</td>\n",
       "      <td>3.000000</td>\n",
       "      <td>251.500000</td>\n",
       "      <td>36.0</td>\n",
       "      <td>2.500000</td>\n",
       "      <td>0.166667</td>\n",
       "      <td>0.0</td>\n",
       "      <td>0.166667</td>\n",
       "    </tr>\n",
       "    <tr>\n",
       "      <th>2010-09-19</th>\n",
       "      <td>78.693333</td>\n",
       "      <td>2010.0</td>\n",
       "      <td>9.000000</td>\n",
       "      <td>15.666667</td>\n",
       "      <td>3.000000</td>\n",
       "      <td>258.666667</td>\n",
       "      <td>37.0</td>\n",
       "      <td>2.666667</td>\n",
       "      <td>0.000000</td>\n",
       "      <td>0.0</td>\n",
       "      <td>0.000000</td>\n",
       "    </tr>\n",
       "    <tr>\n",
       "      <th>2010-09-26</th>\n",
       "      <td>78.518333</td>\n",
       "      <td>2010.0</td>\n",
       "      <td>9.000000</td>\n",
       "      <td>22.666667</td>\n",
       "      <td>3.000000</td>\n",
       "      <td>265.666667</td>\n",
       "      <td>38.0</td>\n",
       "      <td>2.666667</td>\n",
       "      <td>0.000000</td>\n",
       "      <td>0.0</td>\n",
       "      <td>0.000000</td>\n",
       "    </tr>\n",
       "    <tr>\n",
       "      <th>2010-10-03</th>\n",
       "      <td>81.211667</td>\n",
       "      <td>2010.0</td>\n",
       "      <td>9.333333</td>\n",
       "      <td>19.666667</td>\n",
       "      <td>3.333333</td>\n",
       "      <td>272.666667</td>\n",
       "      <td>39.0</td>\n",
       "      <td>2.666667</td>\n",
       "      <td>0.000000</td>\n",
       "      <td>0.0</td>\n",
       "      <td>0.000000</td>\n",
       "    </tr>\n",
       "  </tbody>\n",
       "</table>\n",
       "</div>"
      ],
      "text/plain": [
       "             Значение    year     month  dayofmonth   quarter   dayofyear  \\\n",
       "Дата                                                                        \n",
       "2010-09-05  76.616000  2010.0  9.000000    3.000000  3.000000  246.000000   \n",
       "2010-09-12  77.673333  2010.0  9.000000    8.500000  3.000000  251.500000   \n",
       "2010-09-19  78.693333  2010.0  9.000000   15.666667  3.000000  258.666667   \n",
       "2010-09-26  78.518333  2010.0  9.000000   22.666667  3.000000  265.666667   \n",
       "2010-10-03  81.211667  2010.0  9.333333   19.666667  3.333333  272.666667   \n",
       "\n",
       "            weekofyear  dayofweek  is_holiday  is_prev_holiday  \\\n",
       "Дата                                                             \n",
       "2010-09-05        35.0   4.000000    0.000000              0.2   \n",
       "2010-09-12        36.0   2.500000    0.166667              0.0   \n",
       "2010-09-19        37.0   2.666667    0.000000              0.0   \n",
       "2010-09-26        38.0   2.666667    0.000000              0.0   \n",
       "2010-10-03        39.0   2.666667    0.000000              0.0   \n",
       "\n",
       "            is_next_holiday  \n",
       "Дата                         \n",
       "2010-09-05         0.000000  \n",
       "2010-09-12         0.166667  \n",
       "2010-09-19         0.000000  \n",
       "2010-09-26         0.000000  \n",
       "2010-10-03         0.000000  "
      ]
     },
     "execution_count": 10,
     "metadata": {},
     "output_type": "execute_result"
    }
   ],
   "source": [
    "w_brent=brent.resample('W').mean()\n",
    "w_brent.head()"
   ]
  },
  {
   "cell_type": "markdown",
   "metadata": {},
   "source": [
    "Построим ACF и RACF модели"
   ]
  },
  {
   "cell_type": "code",
   "execution_count": 43,
   "metadata": {},
   "outputs": [
    {
     "data": {
      "image/png": "[encoded data removed]",
      "text/plain": [
       "<Figure size 432x288 with 1 Axes>"
      ]
     },
     "metadata": {
      "needs_background": "light"
     },
     "output_type": "display_data"
    },
    {
     "data": {
      "image/png": "[encoded data removed]",
      "text/plain": [
       "<Figure size 432x288 with 1 Axes>"
      ]
     },
     "metadata": {
      "needs_background": "light"
     },
     "output_type": "display_data"
    }
   ],
   "source": [
    "sm.graphics.tsa.plot_acf(w_brent['Значение'].values, lags=12)\n",
    "plt.show()\n",
    "\n",
    "sm.graphics.tsa.plot_pacf(w_brent['Значение'].values, lags=12)\n",
    "plt.show()"
   ]
  },
  {
   "cell_type": "markdown",
   "metadata": {},
   "source": [
    "Модели имеют нулевые значения, это говорит нам о том, что значения никак между собой не связаны"
   ]
  },
  {
   "cell_type": "markdown",
   "metadata": {},
   "source": [
    "Подберем коэффициенты ARIMA ряда, при коэффициентах сезонности, равные 0"
   ]
  },
  {
   "cell_type": "code",
   "execution_count": 45,
   "metadata": {},
   "outputs": [
    {
     "name": "stdout",
     "output_type": "stream",
     "text": [
      "ARIMA(0, 0, 0)x[0, 0, 0, 0] - AIC:-74.7277362080455\n",
      "ARIMA(0, 0, 1)x[0, 0, 0, 0] - AIC:-409.19342765496145\n"
     ]
    },
    {
     "name": "stderr",
     "output_type": "stream",
     "text": [
      "C:\\Program Files\\Python37\\lib\\site-packages\\statsmodels\\base\\model.py:512: ConvergenceWarning: Maximum Likelihood optimization failed to converge. Check mle_retvals\n",
      "  \"Check mle_retvals\", ConvergenceWarning)\n"
     ]
    },
    {
     "name": "stdout",
     "output_type": "stream",
     "text": [
      "ARIMA(0, 0, 2)x[0, 0, 0, 0] - AIC:-629.9296059521693\n",
      "ARIMA(0, 0, 3)x[0, 0, 0, 0] - AIC:-532.0401837201945\n",
      "ARIMA(0, 0, 4)x[0, 0, 0, 0] - AIC:-595.1033595305832\n"
     ]
    },
    {
     "name": "stderr",
     "output_type": "stream",
     "text": [
      "C:\\Program Files\\Python37\\lib\\site-packages\\statsmodels\\base\\model.py:512: ConvergenceWarning: Maximum Likelihood optimization failed to converge. Check mle_retvals\n",
      "  \"Check mle_retvals\", ConvergenceWarning)\n"
     ]
    },
    {
     "name": "stdout",
     "output_type": "stream",
     "text": [
      "ARIMA(0, 0, 5)x[0, 0, 0, 0] - AIC:-845.0687962398573\n"
     ]
    },
    {
     "name": "stderr",
     "output_type": "stream",
     "text": [
      "C:\\Program Files\\Python37\\lib\\site-packages\\statsmodels\\base\\model.py:512: ConvergenceWarning: Maximum Likelihood optimization failed to converge. Check mle_retvals\n",
      "  \"Check mle_retvals\", ConvergenceWarning)\n",
      "C:\\Program Files\\Python37\\lib\\site-packages\\statsmodels\\base\\model.py:512: ConvergenceWarning: Maximum Likelihood optimization failed to converge. Check mle_retvals\n",
      "  \"Check mle_retvals\", ConvergenceWarning)\n"
     ]
    },
    {
     "name": "stdout",
     "output_type": "stream",
     "text": [
      "ARIMA(0, 0, 6)x[0, 0, 0, 0] - AIC:-921.6026313374718\n",
      "ARIMA(0, 1, 0)x[0, 0, 0, 0] - AIC:-1138.2415823961471\n"
     ]
    },
    {
     "name": "stderr",
     "output_type": "stream",
     "text": [
      "C:\\Program Files\\Python37\\lib\\site-packages\\statsmodels\\base\\model.py:512: ConvergenceWarning: Maximum Likelihood optimization failed to converge. Check mle_retvals\n",
      "  \"Check mle_retvals\", ConvergenceWarning)\n"
     ]
    },
    {
     "name": "stdout",
     "output_type": "stream",
     "text": [
      "ARIMA(0, 1, 1)x[0, 0, 0, 0] - AIC:-1158.2445207934709\n",
      "ARIMA(0, 1, 2)x[0, 0, 0, 0] - AIC:-1150.6899510111687\n",
      "ARIMA(0, 1, 3)x[0, 0, 0, 0] - AIC:-1146.890588288261\n"
     ]
    },
    {
     "name": "stderr",
     "output_type": "stream",
     "text": [
      "C:\\Program Files\\Python37\\lib\\site-packages\\statsmodels\\base\\model.py:512: ConvergenceWarning: Maximum Likelihood optimization failed to converge. Check mle_retvals\n",
      "  \"Check mle_retvals\", ConvergenceWarning)\n"
     ]
    },
    {
     "name": "stdout",
     "output_type": "stream",
     "text": [
      "ARIMA(0, 1, 4)x[0, 0, 0, 0] - AIC:-1141.3450778372376\n"
     ]
    },
    {
     "name": "stderr",
     "output_type": "stream",
     "text": [
      "C:\\Program Files\\Python37\\lib\\site-packages\\statsmodels\\base\\model.py:512: ConvergenceWarning: Maximum Likelihood optimization failed to converge. Check mle_retvals\n",
      "  \"Check mle_retvals\", ConvergenceWarning)\n"
     ]
    },
    {
     "name": "stdout",
     "output_type": "stream",
     "text": [
      "ARIMA(0, 1, 5)x[0, 0, 0, 0] - AIC:-1134.3413641161947\n",
      "ARIMA(0, 1, 6)x[0, 0, 0, 0] - AIC:-1127.0644945248132\n",
      "ARIMA(1, 0, 0)x[0, 0, 0, 0] - AIC:-1143.720176817907\n"
     ]
    },
    {
     "name": "stderr",
     "output_type": "stream",
     "text": [
      "C:\\Program Files\\Python37\\lib\\site-packages\\statsmodels\\base\\model.py:512: ConvergenceWarning: Maximum Likelihood optimization failed to converge. Check mle_retvals\n",
      "  \"Check mle_retvals\", ConvergenceWarning)\n"
     ]
    },
    {
     "name": "stdout",
     "output_type": "stream",
     "text": [
      "ARIMA(1, 0, 1)x[0, 0, 0, 0] - AIC:-1164.2023840977167\n"
     ]
    },
    {
     "name": "stderr",
     "output_type": "stream",
     "text": [
      "C:\\Program Files\\Python37\\lib\\site-packages\\statsmodels\\base\\model.py:512: ConvergenceWarning: Maximum Likelihood optimization failed to converge. Check mle_retvals\n",
      "  \"Check mle_retvals\", ConvergenceWarning)\n"
     ]
    },
    {
     "name": "stdout",
     "output_type": "stream",
     "text": [
      "ARIMA(1, 0, 2)x[0, 0, 0, 0] - AIC:-1156.7003078483206\n"
     ]
    },
    {
     "name": "stderr",
     "output_type": "stream",
     "text": [
      "C:\\Program Files\\Python37\\lib\\site-packages\\statsmodels\\base\\model.py:512: ConvergenceWarning: Maximum Likelihood optimization failed to converge. Check mle_retvals\n",
      "  \"Check mle_retvals\", ConvergenceWarning)\n",
      "C:\\Program Files\\Python37\\lib\\site-packages\\statsmodels\\base\\model.py:512: ConvergenceWarning: Maximum Likelihood optimization failed to converge. Check mle_retvals\n",
      "  \"Check mle_retvals\", ConvergenceWarning)\n"
     ]
    },
    {
     "name": "stdout",
     "output_type": "stream",
     "text": [
      "ARIMA(1, 0, 3)x[0, 0, 0, 0] - AIC:-1152.5089330241015\n",
      "ARIMA(1, 0, 4)x[0, 0, 0, 0] - AIC:-1146.437992525936\n",
      "ARIMA(1, 0, 5)x[0, 0, 0, 0] - AIC:-1140.167675990614\n"
     ]
    },
    {
     "name": "stderr",
     "output_type": "stream",
     "text": [
      "C:\\Program Files\\Python37\\lib\\site-packages\\statsmodels\\base\\model.py:512: ConvergenceWarning: Maximum Likelihood optimization failed to converge. Check mle_retvals\n",
      "  \"Check mle_retvals\", ConvergenceWarning)\n",
      "C:\\Program Files\\Python37\\lib\\site-packages\\statsmodels\\base\\model.py:512: ConvergenceWarning: Maximum Likelihood optimization failed to converge. Check mle_retvals\n",
      "  \"Check mle_retvals\", ConvergenceWarning)\n"
     ]
    },
    {
     "name": "stdout",
     "output_type": "stream",
     "text": [
      "ARIMA(1, 0, 6)x[0, 0, 0, 0] - AIC:-1133.1217139722753\n",
      "ARIMA(1, 1, 0)x[0, 0, 0, 0] - AIC:-1164.0739871650876\n",
      "ARIMA(1, 1, 1)x[0, 0, 0, 0] - AIC:-1156.9330902127708\n",
      "ARIMA(1, 1, 2)x[0, 0, 0, 0] - AIC:-1149.7855108141332\n"
     ]
    },
    {
     "name": "stderr",
     "output_type": "stream",
     "text": [
      "C:\\Program Files\\Python37\\lib\\site-packages\\statsmodels\\base\\model.py:512: ConvergenceWarning: Maximum Likelihood optimization failed to converge. Check mle_retvals\n",
      "  \"Check mle_retvals\", ConvergenceWarning)\n",
      "C:\\Program Files\\Python37\\lib\\site-packages\\statsmodels\\base\\model.py:512: ConvergenceWarning: Maximum Likelihood optimization failed to converge. Check mle_retvals\n",
      "  \"Check mle_retvals\", ConvergenceWarning)\n"
     ]
    },
    {
     "name": "stdout",
     "output_type": "stream",
     "text": [
      "ARIMA(1, 1, 3)x[0, 0, 0, 0] - AIC:-1144.8318197507028\n",
      "ARIMA(1, 1, 4)x[0, 0, 0, 0] - AIC:-1138.9723499509905\n"
     ]
    },
    {
     "name": "stderr",
     "output_type": "stream",
     "text": [
      "C:\\Program Files\\Python37\\lib\\site-packages\\statsmodels\\base\\model.py:512: ConvergenceWarning: Maximum Likelihood optimization failed to converge. Check mle_retvals\n",
      "  \"Check mle_retvals\", ConvergenceWarning)\n"
     ]
    },
    {
     "name": "stdout",
     "output_type": "stream",
     "text": [
      "ARIMA(1, 1, 5)x[0, 0, 0, 0] - AIC:-1133.3550724121974\n",
      "ARIMA(1, 1, 6)x[0, 0, 0, 0] - AIC:-1125.3568980435439\n"
     ]
    }
   ],
   "source": [
    "import itertools\n",
    "# Определим p, d и q в диапазоне 0-3\n",
    "d = [0,1]\n",
    "p = [0,1] \n",
    "q = range(0, 7)\n",
    "# зададим сетку p, q и q\n",
    "pdq = list(itertools.product(p, d, q))\n",
    "\n",
    "seasonal_pdq = [0,0,0,0] # нет сезона\n",
    "\n",
    "\n",
    "for param in pdq:\n",
    "    param_seasonal = seasonal_pdq\n",
    "    try:\n",
    "        mod_b = sm.tsa.statespace.SARIMAX(np.log(w_brent['Значение'].values[:-200]),\n",
    "                                          order=param,seasonal_order=[0,0,0,0],trend='ct',\n",
    "                                          enforce_stationarity=False,\n",
    "                                          enforce_invertibility=False)\n",
    "\n",
    "        results_ = mod_b.fit()\n",
    "        print('ARIMA{}x{} - AIC:{}'.format(param, param_seasonal, results_.aic))\n",
    "    except Exception as E:\n",
    "        print(E)"
   ]
  },
  {
   "cell_type": "markdown",
   "metadata": {},
   "source": [
    "Оптимальными являются векторы ARIMA(1, 0, 1)x[0, 0, 0, 0], имеющие AIC:-1164.2023840977167"
   ]
  },
  {
   "cell_type": "markdown",
   "metadata": {},
   "source": [
    "Произведем прогноз ряда и посторим результат"
   ]
  },
  {
   "cell_type": "code",
   "execution_count": 49,
   "metadata": {},
   "outputs": [
    {
     "data": {
      "image/png": "[encoded data removed]",
      "text/plain": [
       "<Figure size 1440x720 with 1 Axes>"
      ]
     },
     "metadata": {
      "needs_background": "light"
     },
     "output_type": "display_data"
    }
   ],
   "source": [
    "N3=200\n",
    "predict_ = resultsb_opt.get_prediction(end=resultsb_opt.nobs + nforecast)   \n",
    "\n",
    "idx = np.arange(len(predict_.predicted_mean)-N3)\n",
    "predict_ci = predict_.conf_int(alpha=0.5)\n",
    "\n",
    "\n",
    "fig, ax = plt.subplots(figsize=(20,10))\n",
    "ax.plot(w_brent['Значение'].values[N3:], 'k.',label='true')\n",
    "plt.ylim([40,100])\n",
    "plt.grid()\n",
    "ax.plot(idx[:-nforecast], predict_.predicted_mean[N3:-nforecast], '--g',label='model')\n",
    "ax.plot(idx[-nforecast:], predict_.predicted_mean[-nforecast:], 'r--', linestyle='--', linewidth=2,label = 'predict')\n",
    "ax.fill_between(idx, predict_ci[N3:, 0], predict_ci[N3:, 1], alpha=0.15)\n",
    "plt.legend()\n",
    "\n",
    "ax.set(title='общая картина моделирование и предсказание');"
   ]
  },
  {
   "cell_type": "markdown",
   "metadata": {},
   "source": [
    "<b>Вывод</b>: полученная модель предсказала снижение цены в краткосрочном периоде, но не её ход в целом"
   ]
  },
  {
   "cell_type": "markdown",
   "metadata": {},
   "source": [
    "<b>Общий вывод</b>: модель ARIMA лучше всего подходит для сезонных, циклических временных рядов, т.е. там, где выражена автокорреляция между своими значениями внутри ряда"
   ]
  }
 ],
 "metadata": {
  "kernelspec": {
   "display_name": "Python 3",
   "language": "python",
   "name": "python3"
  },
  "language_info": {
   "codemirror_mode": {
    "name": "ipython",
    "version": 3
   },
   "file_extension": ".py",
   "mimetype": "text/x-python",
   "name": "python",
   "nbconvert_exporter": "python",
   "pygments_lexer": "ipython3",
   "version": "3.7.4"
  }
 },
 "nbformat": 4,
 "nbformat_minor": 2
}
